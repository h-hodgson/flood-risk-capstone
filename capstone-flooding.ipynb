{
 "cells": [
  {
   "cell_type": "code",
   "execution_count": 2,
   "id": "6c8806ab",
   "metadata": {},
   "outputs": [],
   "source": [
    "import numpy as np\n",
    "import matplotlib.pyplot as plt\n",
    "import seaborn as sns\n",
    "import pandas as pd\n",
    "sns.set(font_scale=1.5)\n",
    "%config InlineBackend.figure_format = 'retina'\n",
    "%matplotlib inline"
   ]
  },
  {
   "cell_type": "code",
   "execution_count": 178,
   "id": "db84c83b",
   "metadata": {},
   "outputs": [],
   "source": [
    "from sklearn import datasets, metrics\n",
    "from sklearn.preprocessing import StandardScaler\n",
    "from sklearn.linear_model import LogisticRegression, LogisticRegressionCV, LinearRegression, RidgeCV, LassoCV,ElasticNetCV\n",
    "from sklearn.model_selection import train_test_split, cross_val_score, GridSearchCV\n",
    "from sklearn.neighbors import KNeighborsClassifier\n",
    "from sklearn.metrics import confusion_matrix\n",
    "from sklearn.metrics import plot_confusion_matrix, plot_roc_curve\n",
    "from sklearn.tree import DecisionTreeRegressor\n",
    "from sklearn.ensemble import AdaBoostRegressor, RandomForestRegressor\n",
    "from sklearn.model_selection import KFold\n",
    "from sklearn.metrics import classification_report, confusion_matrix"
   ]
  },
  {
   "cell_type": "markdown",
   "id": "a037dedf",
   "metadata": {},
   "source": [
    "## Importing Data"
   ]
  },
  {
   "cell_type": "code",
   "execution_count": 4,
   "id": "e88c9340",
   "metadata": {},
   "outputs": [],
   "source": [
    "#importing data: distances from floods to land/water boundary\n",
    "fl_1 = pd.read_csv('data/flood-outline-distances.csv')"
   ]
  },
  {
   "cell_type": "code",
   "execution_count": 5,
   "id": "2edb2f8f",
   "metadata": {},
   "outputs": [],
   "source": [
    "#importing data: altitude, slope, rain, land cover of flood centroids\n",
    "fl_2 = pd.read_csv('data/point-data.csv')"
   ]
  },
  {
   "cell_type": "code",
   "execution_count": 52,
   "id": "9b83f1c1",
   "metadata": {},
   "outputs": [],
   "source": [
    "#importing data: altitude and slope at random points\n",
    "pt_1 = pd.read_csv('data/slope_alt_point-data.csv')"
   ]
  },
  {
   "cell_type": "code",
   "execution_count": 8,
   "id": "d749935b",
   "metadata": {},
   "outputs": [],
   "source": [
    "#importing data: rain, land cover, distances to land/water boundary and to nearest flood\n",
    "pt_2 = pd.read_csv('data/points-minus-dem.csv')"
   ]
  },
  {
   "cell_type": "code",
   "execution_count": 9,
   "id": "95341836",
   "metadata": {},
   "outputs": [],
   "source": [
    "#merging flooding data\n",
    "fl = pd.merge(fl_1, fl_2, how = 'left', on = 'rec_out_id')"
   ]
  },
  {
   "cell_type": "code",
   "execution_count": 53,
   "id": "e291cd04",
   "metadata": {},
   "outputs": [],
   "source": [
    "pt_1['fid'] = pt_1['rand_point_id']+1"
   ]
  },
  {
   "cell_type": "code",
   "execution_count": 54,
   "id": "3a2a7a07",
   "metadata": {},
   "outputs": [],
   "source": [
    "#merging random point data\n",
    "pt = pd.merge(pt_1, pt_2, how = 'left', on = 'fid')"
   ]
  },
  {
   "cell_type": "markdown",
   "id": "671ca5bc",
   "metadata": {},
   "source": [
    "## Cleaning data"
   ]
  },
  {
   "cell_type": "code",
   "execution_count": 11,
   "id": "3f9a62fe",
   "metadata": {},
   "outputs": [
    {
     "data": {
      "text/plain": [
       "Index(['fid_x', 'rec_out_id', 'rec_grp_id_x', 'name_x', 'start_date_x',\n",
       "       'end_date_x', 'flood_src_x', 'flood_caus_x', 'fm_status_x',\n",
       "       'hfm_status_x', 'data_src_x', 'fluvial_f_x', 'coastal_f_x', 'tidal_f_x',\n",
       "       'data_prov_x', 'data_qual_x', 'st_area_sh_x', 'st_perimet_x',\n",
       "       'join_fid', 'join_gml_id', 'join_propertyValue',\n",
       "       'join_propertyValue_uom', 'join_waterLevelCategory', 'join_layer',\n",
       "       'join_path', 'distance', 'fid_y', 'rec_grp_id_y', 'name_y',\n",
       "       'start_date_y', 'end_date_y', 'flood_src_y', 'flood_caus_y',\n",
       "       'fm_status_y', 'hfm_status_y', 'data_src_y', 'fluvial_f_y',\n",
       "       'coastal_f_y', 'tidal_f_y', 'data_prov_y', 'data_qual_y',\n",
       "       'st_area_sh_y', 'st_perimet_y', 'slope-merg', 'rain-avera', 'LCM_1',\n",
       "       'dem-merged'],\n",
       "      dtype='object')"
      ]
     },
     "execution_count": 11,
     "metadata": {},
     "output_type": "execute_result"
    }
   ],
   "source": [
    "fl.columns"
   ]
  },
  {
   "cell_type": "code",
   "execution_count": 18,
   "id": "9f0796e3",
   "metadata": {},
   "outputs": [],
   "source": [
    "fl = fl[['rec_out_id','rec_grp_id_x', 'name_x', 'start_date_x',\n",
    "       'end_date_x', 'flood_src_x', 'flood_caus_x', \n",
    "        'data_src_x', 'fluvial_f_x', 'coastal_f_x', 'tidal_f_x',\n",
    "       'data_prov_x', 'data_qual_x', 'st_area_sh_x', 'st_perimet_x','distance',\n",
    "        'slope-merg', 'rain-avera', 'LCM_1',\n",
    "       'dem-merged']]"
   ]
  },
  {
   "cell_type": "code",
   "execution_count": 19,
   "id": "e301b1e2",
   "metadata": {},
   "outputs": [],
   "source": [
    "columns = {'rec_out_id':'indv_id','rec_grp_id_x':'group_id', 'name_x':'name', 'start_date_x':'start_date',\n",
    "       'end_date_x':'end_date', 'flood_src_x':'flood_source', 'flood_caus_x':'flood_cause',\n",
    "        'data_src_x':'data_source', 'fluvial_f_x':'fluvial', 'coastal_f_x':'coastal', 'tidal_f_x':'tidal',\n",
    "       'data_prov_x':'data_prov', 'data_qual_x':'data_qual', 'st_area_sh_x':'area', 'st_perimet_x':'perimeter',\n",
    "        'slope-merg':'slope', 'rain-avera':'rain', 'LCM_1':'land_cover','dem-merged':'altitude'}"
   ]
  },
  {
   "cell_type": "code",
   "execution_count": 21,
   "id": "b1517792",
   "metadata": {},
   "outputs": [
    {
     "name": "stderr",
     "output_type": "stream",
     "text": [
      "/Users/henryhodgson/opt/anaconda3/lib/python3.8/site-packages/pandas/core/frame.py:4441: SettingWithCopyWarning: \n",
      "A value is trying to be set on a copy of a slice from a DataFrame\n",
      "\n",
      "See the caveats in the documentation: https://pandas.pydata.org/pandas-docs/stable/user_guide/indexing.html#returning-a-view-versus-a-copy\n",
      "  return super().rename(\n"
     ]
    }
   ],
   "source": [
    "fl.rename(columns = columns, inplace = True)"
   ]
  },
  {
   "cell_type": "markdown",
   "id": "fff0ea07",
   "metadata": {},
   "source": [
    "## Modelling"
   ]
  },
  {
   "cell_type": "code",
   "execution_count": 37,
   "id": "07e78e73",
   "metadata": {
    "scrolled": false
   },
   "outputs": [],
   "source": [
    "flood_points = fl.groupby('group_id').agg({'distance':'min', 'slope':'mean','rain':'mean',\n",
    "                                           'altitude':'mean','land_cover':'first'}).round(decimals = 1)"
   ]
  },
  {
   "cell_type": "code",
   "execution_count": 70,
   "id": "d47b1e27",
   "metadata": {},
   "outputs": [],
   "source": [
    "flood_points['flooded'] = 1"
   ]
  },
  {
   "cell_type": "code",
   "execution_count": 71,
   "id": "76d5fb2f",
   "metadata": {
    "scrolled": true
   },
   "outputs": [
    {
     "data": {
      "text/html": [
       "<div>\n",
       "<style scoped>\n",
       "    .dataframe tbody tr th:only-of-type {\n",
       "        vertical-align: middle;\n",
       "    }\n",
       "\n",
       "    .dataframe tbody tr th {\n",
       "        vertical-align: top;\n",
       "    }\n",
       "\n",
       "    .dataframe thead th {\n",
       "        text-align: right;\n",
       "    }\n",
       "</style>\n",
       "<table border=\"1\" class=\"dataframe\">\n",
       "  <thead>\n",
       "    <tr style=\"text-align: right;\">\n",
       "      <th></th>\n",
       "      <th>distance</th>\n",
       "      <th>slope</th>\n",
       "      <th>rain</th>\n",
       "      <th>altitude</th>\n",
       "      <th>land_cover</th>\n",
       "      <th>flooded</th>\n",
       "    </tr>\n",
       "    <tr>\n",
       "      <th>group_id</th>\n",
       "      <th></th>\n",
       "      <th></th>\n",
       "      <th></th>\n",
       "      <th></th>\n",
       "      <th></th>\n",
       "      <th></th>\n",
       "    </tr>\n",
       "  </thead>\n",
       "  <tbody>\n",
       "    <tr>\n",
       "      <th>1741</th>\n",
       "      <td>0.0</td>\n",
       "      <td>1.5</td>\n",
       "      <td>683.4</td>\n",
       "      <td>3.6</td>\n",
       "      <td>20</td>\n",
       "      <td>1</td>\n",
       "    </tr>\n",
       "    <tr>\n",
       "      <th>1767</th>\n",
       "      <td>14018.7</td>\n",
       "      <td>2.1</td>\n",
       "      <td>741.2</td>\n",
       "      <td>33.9</td>\n",
       "      <td>21</td>\n",
       "      <td>1</td>\n",
       "    </tr>\n",
       "    <tr>\n",
       "      <th>1771</th>\n",
       "      <td>0.0</td>\n",
       "      <td>0.5</td>\n",
       "      <td>653.1</td>\n",
       "      <td>2.2</td>\n",
       "      <td>4</td>\n",
       "      <td>1</td>\n",
       "    </tr>\n",
       "    <tr>\n",
       "      <th>2005</th>\n",
       "      <td>0.0</td>\n",
       "      <td>1.4</td>\n",
       "      <td>751.3</td>\n",
       "      <td>32.9</td>\n",
       "      <td>21</td>\n",
       "      <td>1</td>\n",
       "    </tr>\n",
       "    <tr>\n",
       "      <th>2135</th>\n",
       "      <td>0.0</td>\n",
       "      <td>1.0</td>\n",
       "      <td>635.3</td>\n",
       "      <td>3.2</td>\n",
       "      <td>20</td>\n",
       "      <td>1</td>\n",
       "    </tr>\n",
       "  </tbody>\n",
       "</table>\n",
       "</div>"
      ],
      "text/plain": [
       "          distance  slope   rain  altitude  land_cover  flooded\n",
       "group_id                                                       \n",
       "1741           0.0    1.5  683.4       3.6          20        1\n",
       "1767       14018.7    2.1  741.2      33.9          21        1\n",
       "1771           0.0    0.5  653.1       2.2           4        1\n",
       "2005           0.0    1.4  751.3      32.9          21        1\n",
       "2135           0.0    1.0  635.3       3.2          20        1"
      ]
     },
     "execution_count": 71,
     "metadata": {},
     "output_type": "execute_result"
    }
   ],
   "source": [
    "flood_points.head()"
   ]
  },
  {
   "cell_type": "code",
   "execution_count": 72,
   "id": "d5f03e1a",
   "metadata": {},
   "outputs": [],
   "source": [
    "ff = flood_points.copy()"
   ]
  },
  {
   "cell_type": "code",
   "execution_count": 73,
   "id": "d9b07034",
   "metadata": {
    "scrolled": true
   },
   "outputs": [
    {
     "data": {
      "text/html": [
       "<div>\n",
       "<style scoped>\n",
       "    .dataframe tbody tr th:only-of-type {\n",
       "        vertical-align: middle;\n",
       "    }\n",
       "\n",
       "    .dataframe tbody tr th {\n",
       "        vertical-align: top;\n",
       "    }\n",
       "\n",
       "    .dataframe thead th {\n",
       "        text-align: right;\n",
       "    }\n",
       "</style>\n",
       "<table border=\"1\" class=\"dataframe\">\n",
       "  <thead>\n",
       "    <tr style=\"text-align: right;\">\n",
       "      <th></th>\n",
       "      <th>distance</th>\n",
       "      <th>slope</th>\n",
       "      <th>rain</th>\n",
       "      <th>altitude</th>\n",
       "      <th>land_cover</th>\n",
       "      <th>flooded</th>\n",
       "    </tr>\n",
       "    <tr>\n",
       "      <th>group_id</th>\n",
       "      <th></th>\n",
       "      <th></th>\n",
       "      <th></th>\n",
       "      <th></th>\n",
       "      <th></th>\n",
       "      <th></th>\n",
       "    </tr>\n",
       "  </thead>\n",
       "  <tbody>\n",
       "    <tr>\n",
       "      <th>1741</th>\n",
       "      <td>0.0</td>\n",
       "      <td>1.5</td>\n",
       "      <td>683.4</td>\n",
       "      <td>3.6</td>\n",
       "      <td>20</td>\n",
       "      <td>1</td>\n",
       "    </tr>\n",
       "    <tr>\n",
       "      <th>1767</th>\n",
       "      <td>14018.7</td>\n",
       "      <td>2.1</td>\n",
       "      <td>741.2</td>\n",
       "      <td>33.9</td>\n",
       "      <td>21</td>\n",
       "      <td>1</td>\n",
       "    </tr>\n",
       "    <tr>\n",
       "      <th>1771</th>\n",
       "      <td>0.0</td>\n",
       "      <td>0.5</td>\n",
       "      <td>653.1</td>\n",
       "      <td>2.2</td>\n",
       "      <td>4</td>\n",
       "      <td>1</td>\n",
       "    </tr>\n",
       "    <tr>\n",
       "      <th>2005</th>\n",
       "      <td>0.0</td>\n",
       "      <td>1.4</td>\n",
       "      <td>751.3</td>\n",
       "      <td>32.9</td>\n",
       "      <td>21</td>\n",
       "      <td>1</td>\n",
       "    </tr>\n",
       "    <tr>\n",
       "      <th>2135</th>\n",
       "      <td>0.0</td>\n",
       "      <td>1.0</td>\n",
       "      <td>635.3</td>\n",
       "      <td>3.2</td>\n",
       "      <td>20</td>\n",
       "      <td>1</td>\n",
       "    </tr>\n",
       "  </tbody>\n",
       "</table>\n",
       "</div>"
      ],
      "text/plain": [
       "          distance  slope   rain  altitude  land_cover  flooded\n",
       "group_id                                                       \n",
       "1741           0.0    1.5  683.4       3.6          20        1\n",
       "1767       14018.7    2.1  741.2      33.9          21        1\n",
       "1771           0.0    0.5  653.1       2.2           4        1\n",
       "2005           0.0    1.4  751.3      32.9          21        1\n",
       "2135           0.0    1.0  635.3       3.2          20        1"
      ]
     },
     "execution_count": 73,
     "metadata": {},
     "output_type": "execute_result"
    }
   ],
   "source": [
    "ff.head()"
   ]
  },
  {
   "cell_type": "code",
   "execution_count": 74,
   "id": "d3248dcb",
   "metadata": {},
   "outputs": [
    {
     "data": {
      "text/plain": [
       "(77, 6)"
      ]
     },
     "execution_count": 74,
     "metadata": {},
     "output_type": "execute_result"
    }
   ],
   "source": [
    "ff.shape"
   ]
  },
  {
   "cell_type": "code",
   "execution_count": 81,
   "id": "60aece75",
   "metadata": {},
   "outputs": [
    {
     "data": {
      "text/plain": [
       "4     32\n",
       "21    16\n",
       "20    13\n",
       "3     11\n",
       "14     2\n",
       "16     2\n",
       "1      1\n",
       "Name: land_cover, dtype: int64"
      ]
     },
     "execution_count": 81,
     "metadata": {},
     "output_type": "execute_result"
    }
   ],
   "source": [
    "ff.land_cover.value_counts()"
   ]
  },
  {
   "cell_type": "code",
   "execution_count": 56,
   "id": "8615cee6",
   "metadata": {
    "scrolled": true
   },
   "outputs": [
    {
     "data": {
      "text/plain": [
       "Index(['rand_point_id', 'id', 'altitude', 'slope', 'rainfall', 'land_cover',\n",
       "       'distance_x', 'SAMPLE_1', 'slope1', 'fid', 'ra1', 'lc1', 'lc2', 'lc3',\n",
       "       'join_rec_out_id', 'join_rec_grp_id', 'join_name', 'join_start_date',\n",
       "       'join_end_date', 'join_flood_src', 'join_flood_caus', 'join_fm_status',\n",
       "       'join_hfm_status', 'join_data_src', 'join_fluvial_f', 'join_coastal_f',\n",
       "       'join_tidal_f', 'join_data_prov', 'join_data_qual', 'join_st_area_sh',\n",
       "       'join_st_perimet', 'distance_y', 'join_fid', 'join_gml_id',\n",
       "       'join_propertyValue', 'join_propertyValue_uom',\n",
       "       'join_waterLevelCategory', 'join_layer', 'join_path', 'water'],\n",
       "      dtype='object')"
      ]
     },
     "execution_count": 56,
     "metadata": {},
     "output_type": "execute_result"
    }
   ],
   "source": [
    "pt.columns"
   ]
  },
  {
   "cell_type": "code",
   "execution_count": 57,
   "id": "bc6f4db4",
   "metadata": {},
   "outputs": [],
   "source": [
    "pt = pt[['SAMPLE_1','slope1','ra1','lc1','distance_y','water']]"
   ]
  },
  {
   "cell_type": "code",
   "execution_count": 58,
   "id": "ee093907",
   "metadata": {},
   "outputs": [],
   "source": [
    "columns = {'SAMPLE_1':'altitude','slope1':'slope','ra1':'rain','lc1':'land_cover',\n",
    "           'distance_y':'distance_to_flood','water':'distance'}"
   ]
  },
  {
   "cell_type": "code",
   "execution_count": 59,
   "id": "c1f965a1",
   "metadata": {},
   "outputs": [
    {
     "name": "stderr",
     "output_type": "stream",
     "text": [
      "/Users/henryhodgson/opt/anaconda3/lib/python3.8/site-packages/pandas/core/frame.py:4441: SettingWithCopyWarning: \n",
      "A value is trying to be set on a copy of a slice from a DataFrame\n",
      "\n",
      "See the caveats in the documentation: https://pandas.pydata.org/pandas-docs/stable/user_guide/indexing.html#returning-a-view-versus-a-copy\n",
      "  return super().rename(\n"
     ]
    }
   ],
   "source": [
    "pt.rename(columns = columns, inplace = True)"
   ]
  },
  {
   "cell_type": "code",
   "execution_count": 64,
   "id": "ae729d79",
   "metadata": {},
   "outputs": [],
   "source": [
    "pt = pt[pt.slope > 0]"
   ]
  },
  {
   "cell_type": "code",
   "execution_count": 84,
   "id": "277b7a38",
   "metadata": {},
   "outputs": [],
   "source": [
    "pt = pt[pt.land_cover != 13]"
   ]
  },
  {
   "cell_type": "code",
   "execution_count": 66,
   "id": "b24c18d5",
   "metadata": {},
   "outputs": [
    {
     "name": "stderr",
     "output_type": "stream",
     "text": [
      "<ipython-input-66-8cf563e4ad27>:1: SettingWithCopyWarning: \n",
      "A value is trying to be set on a copy of a slice from a DataFrame.\n",
      "Try using .loc[row_indexer,col_indexer] = value instead\n",
      "\n",
      "See the caveats in the documentation: https://pandas.pydata.org/pandas-docs/stable/user_guide/indexing.html#returning-a-view-versus-a-copy\n",
      "  pt['flooded'] = [1 if x == 0 else 0 for x in pt['distance_to_flood']]\n"
     ]
    }
   ],
   "source": [
    "pt['flooded'] = [1 if x == 0 else 0 for x in pt['distance_to_flood']]"
   ]
  },
  {
   "cell_type": "code",
   "execution_count": 85,
   "id": "cdfb17a0",
   "metadata": {},
   "outputs": [
    {
     "data": {
      "text/html": [
       "<div>\n",
       "<style scoped>\n",
       "    .dataframe tbody tr th:only-of-type {\n",
       "        vertical-align: middle;\n",
       "    }\n",
       "\n",
       "    .dataframe tbody tr th {\n",
       "        vertical-align: top;\n",
       "    }\n",
       "\n",
       "    .dataframe thead th {\n",
       "        text-align: right;\n",
       "    }\n",
       "</style>\n",
       "<table border=\"1\" class=\"dataframe\">\n",
       "  <thead>\n",
       "    <tr style=\"text-align: right;\">\n",
       "      <th></th>\n",
       "      <th>altitude</th>\n",
       "      <th>slope</th>\n",
       "      <th>rain</th>\n",
       "      <th>land_cover</th>\n",
       "      <th>distance_to_flood</th>\n",
       "      <th>distance</th>\n",
       "      <th>flooded</th>\n",
       "    </tr>\n",
       "  </thead>\n",
       "  <tbody>\n",
       "    <tr>\n",
       "      <th>0</th>\n",
       "      <td>93.400002</td>\n",
       "      <td>5.015244</td>\n",
       "      <td>970.773499</td>\n",
       "      <td>4.0</td>\n",
       "      <td>4774.497798</td>\n",
       "      <td>13668.088618</td>\n",
       "      <td>0</td>\n",
       "    </tr>\n",
       "    <tr>\n",
       "      <th>1</th>\n",
       "      <td>8.000000</td>\n",
       "      <td>0.747003</td>\n",
       "      <td>732.576294</td>\n",
       "      <td>20.0</td>\n",
       "      <td>4790.292671</td>\n",
       "      <td>94.625874</td>\n",
       "      <td>0</td>\n",
       "    </tr>\n",
       "    <tr>\n",
       "      <th>2</th>\n",
       "      <td>72.199997</td>\n",
       "      <td>7.539700</td>\n",
       "      <td>905.587463</td>\n",
       "      <td>3.0</td>\n",
       "      <td>210.759472</td>\n",
       "      <td>22706.424121</td>\n",
       "      <td>0</td>\n",
       "    </tr>\n",
       "    <tr>\n",
       "      <th>3</th>\n",
       "      <td>44.099998</td>\n",
       "      <td>5.951367</td>\n",
       "      <td>951.245483</td>\n",
       "      <td>4.0</td>\n",
       "      <td>507.433194</td>\n",
       "      <td>13879.989621</td>\n",
       "      <td>0</td>\n",
       "    </tr>\n",
       "    <tr>\n",
       "      <th>4</th>\n",
       "      <td>69.099998</td>\n",
       "      <td>1.553224</td>\n",
       "      <td>970.773499</td>\n",
       "      <td>4.0</td>\n",
       "      <td>1544.300051</td>\n",
       "      <td>12502.086186</td>\n",
       "      <td>0</td>\n",
       "    </tr>\n",
       "    <tr>\n",
       "      <th>...</th>\n",
       "      <td>...</td>\n",
       "      <td>...</td>\n",
       "      <td>...</td>\n",
       "      <td>...</td>\n",
       "      <td>...</td>\n",
       "      <td>...</td>\n",
       "      <td>...</td>\n",
       "    </tr>\n",
       "    <tr>\n",
       "      <th>2995</th>\n",
       "      <td>5.200000</td>\n",
       "      <td>1.177538</td>\n",
       "      <td>693.621216</td>\n",
       "      <td>3.0</td>\n",
       "      <td>34.837183</td>\n",
       "      <td>1445.494383</td>\n",
       "      <td>0</td>\n",
       "    </tr>\n",
       "    <tr>\n",
       "      <th>2996</th>\n",
       "      <td>16.700001</td>\n",
       "      <td>0.444726</td>\n",
       "      <td>693.253845</td>\n",
       "      <td>3.0</td>\n",
       "      <td>793.912746</td>\n",
       "      <td>5773.455800</td>\n",
       "      <td>0</td>\n",
       "    </tr>\n",
       "    <tr>\n",
       "      <th>2997</th>\n",
       "      <td>24.100000</td>\n",
       "      <td>0.598163</td>\n",
       "      <td>793.041565</td>\n",
       "      <td>21.0</td>\n",
       "      <td>1536.008747</td>\n",
       "      <td>2872.213888</td>\n",
       "      <td>0</td>\n",
       "    </tr>\n",
       "    <tr>\n",
       "      <th>2998</th>\n",
       "      <td>73.300003</td>\n",
       "      <td>0.563187</td>\n",
       "      <td>781.301575</td>\n",
       "      <td>3.0</td>\n",
       "      <td>4963.443751</td>\n",
       "      <td>4435.742019</td>\n",
       "      <td>0</td>\n",
       "    </tr>\n",
       "    <tr>\n",
       "      <th>2999</th>\n",
       "      <td>14.300000</td>\n",
       "      <td>0.129708</td>\n",
       "      <td>693.253845</td>\n",
       "      <td>20.0</td>\n",
       "      <td>1011.956824</td>\n",
       "      <td>4692.234286</td>\n",
       "      <td>0</td>\n",
       "    </tr>\n",
       "  </tbody>\n",
       "</table>\n",
       "<p>2836 rows × 7 columns</p>\n",
       "</div>"
      ],
      "text/plain": [
       "       altitude     slope        rain  land_cover  distance_to_flood  \\\n",
       "0     93.400002  5.015244  970.773499         4.0        4774.497798   \n",
       "1      8.000000  0.747003  732.576294        20.0        4790.292671   \n",
       "2     72.199997  7.539700  905.587463         3.0         210.759472   \n",
       "3     44.099998  5.951367  951.245483         4.0         507.433194   \n",
       "4     69.099998  1.553224  970.773499         4.0        1544.300051   \n",
       "...         ...       ...         ...         ...                ...   \n",
       "2995   5.200000  1.177538  693.621216         3.0          34.837183   \n",
       "2996  16.700001  0.444726  693.253845         3.0         793.912746   \n",
       "2997  24.100000  0.598163  793.041565        21.0        1536.008747   \n",
       "2998  73.300003  0.563187  781.301575         3.0        4963.443751   \n",
       "2999  14.300000  0.129708  693.253845        20.0        1011.956824   \n",
       "\n",
       "          distance  flooded  \n",
       "0     13668.088618        0  \n",
       "1        94.625874        0  \n",
       "2     22706.424121        0  \n",
       "3     13879.989621        0  \n",
       "4     12502.086186        0  \n",
       "...            ...      ...  \n",
       "2995   1445.494383        0  \n",
       "2996   5773.455800        0  \n",
       "2997   2872.213888        0  \n",
       "2998   4435.742019        0  \n",
       "2999   4692.234286        0  \n",
       "\n",
       "[2836 rows x 7 columns]"
      ]
     },
     "execution_count": 85,
     "metadata": {},
     "output_type": "execute_result"
    }
   ],
   "source": [
    "pt"
   ]
  },
  {
   "cell_type": "code",
   "execution_count": 75,
   "id": "46810095",
   "metadata": {},
   "outputs": [
    {
     "data": {
      "text/plain": [
       "261"
      ]
     },
     "execution_count": 75,
     "metadata": {},
     "output_type": "execute_result"
    }
   ],
   "source": [
    "pt.flooded.sum()"
   ]
  },
  {
   "cell_type": "markdown",
   "id": "24bd5ccd",
   "metadata": {},
   "source": [
    "Roughly 10% of random point data falls in flooded regions."
   ]
  },
  {
   "cell_type": "code",
   "execution_count": 140,
   "id": "ca490d9f",
   "metadata": {},
   "outputs": [],
   "source": [
    "df = pt.copy()"
   ]
  },
  {
   "cell_type": "code",
   "execution_count": 141,
   "id": "6a35b053",
   "metadata": {},
   "outputs": [],
   "source": [
    "df.drop('distance_to_flood',axis=1, inplace = True)"
   ]
  },
  {
   "cell_type": "code",
   "execution_count": 142,
   "id": "d48d3e72",
   "metadata": {},
   "outputs": [],
   "source": [
    "df = df.round(decimals = 1)"
   ]
  },
  {
   "cell_type": "code",
   "execution_count": 143,
   "id": "7cd99922",
   "metadata": {},
   "outputs": [],
   "source": [
    "df['land_cover'] = df.land_cover.astype('object')"
   ]
  },
  {
   "cell_type": "code",
   "execution_count": 144,
   "id": "43d762ef",
   "metadata": {},
   "outputs": [
    {
     "data": {
      "text/plain": [
       "altitude      float64\n",
       "slope         float64\n",
       "rain          float64\n",
       "land_cover     object\n",
       "distance      float64\n",
       "flooded         int64\n",
       "dtype: object"
      ]
     },
     "execution_count": 144,
     "metadata": {},
     "output_type": "execute_result"
    }
   ],
   "source": [
    "df.dtypes"
   ]
  },
  {
   "cell_type": "code",
   "execution_count": 145,
   "id": "0c2d4113",
   "metadata": {},
   "outputs": [],
   "source": [
    "df = pd.get_dummies(df)"
   ]
  },
  {
   "cell_type": "code",
   "execution_count": 146,
   "id": "eb6c510e",
   "metadata": {},
   "outputs": [],
   "source": [
    "df.dropna(inplace=True)"
   ]
  },
  {
   "cell_type": "code",
   "execution_count": 147,
   "id": "220e9c5b",
   "metadata": {},
   "outputs": [],
   "source": [
    "y = df.pop('flooded')\n",
    "X = df"
   ]
  },
  {
   "cell_type": "code",
   "execution_count": 148,
   "id": "66742500",
   "metadata": {},
   "outputs": [],
   "source": [
    "X_train, X_test, y_train, y_test = train_test_split(X, y,\n",
    "                        stratify=y, test_size=0.3, random_state=1)"
   ]
  },
  {
   "cell_type": "code",
   "execution_count": 149,
   "id": "e854b58b",
   "metadata": {},
   "outputs": [],
   "source": [
    "scaler = StandardScaler()\n",
    "\n",
    "X_train = scaler.fit_transform(X_train)\n",
    "X_test = scaler.transform(X_test)\n",
    "\n",
    "X_train = pd.DataFrame(X_train, columns=X.columns)\n",
    "X_test = pd.DataFrame(X_test, columns=X.columns)"
   ]
  },
  {
   "cell_type": "markdown",
   "id": "08aadba8",
   "metadata": {},
   "source": [
    "## Log Reg - 92.5"
   ]
  },
  {
   "cell_type": "code",
   "execution_count": 150,
   "id": "4a3c4c45",
   "metadata": {},
   "outputs": [],
   "source": [
    "model = LogisticRegression(solver='liblinear')"
   ]
  },
  {
   "cell_type": "code",
   "execution_count": 151,
   "id": "448b1ab3",
   "metadata": {},
   "outputs": [
    {
     "data": {
      "text/plain": [
       "LogisticRegression(solver='liblinear')"
      ]
     },
     "execution_count": 151,
     "metadata": {},
     "output_type": "execute_result"
    }
   ],
   "source": [
    "model.fit(X_train, y_train)"
   ]
  },
  {
   "cell_type": "code",
   "execution_count": 153,
   "id": "442b1b79",
   "metadata": {},
   "outputs": [
    {
     "data": {
      "text/plain": [
       "0.9231935320869126"
      ]
     },
     "execution_count": 153,
     "metadata": {},
     "output_type": "execute_result"
    }
   ],
   "source": [
    "model.score(X_train, y_train)"
   ]
  },
  {
   "cell_type": "code",
   "execution_count": 154,
   "id": "60c9a82b",
   "metadata": {},
   "outputs": [
    {
     "data": {
      "text/plain": [
       "0    0.910537\n",
       "1    0.089463\n",
       "Name: flooded, dtype: float64"
      ]
     },
     "execution_count": 154,
     "metadata": {},
     "output_type": "execute_result"
    }
   ],
   "source": [
    "y.value_counts(normalize = True)"
   ]
  },
  {
   "cell_type": "code",
   "execution_count": 156,
   "id": "200497cf",
   "metadata": {},
   "outputs": [],
   "source": [
    "knn = KNeighborsClassifier()"
   ]
  },
  {
   "cell_type": "code",
   "execution_count": 157,
   "id": "c009b498",
   "metadata": {},
   "outputs": [
    {
     "data": {
      "text/plain": [
       "0.9550277918140475"
      ]
     },
     "execution_count": 157,
     "metadata": {},
     "output_type": "execute_result"
    }
   ],
   "source": [
    "knn.fit(X_train, y_train)\n",
    "knn.score(X_train, y_train)"
   ]
  },
  {
   "cell_type": "code",
   "execution_count": 158,
   "id": "d1952864",
   "metadata": {},
   "outputs": [
    {
     "data": {
      "text/plain": [
       "0.9399293286219081"
      ]
     },
     "execution_count": 158,
     "metadata": {},
     "output_type": "execute_result"
    }
   ],
   "source": [
    "knn.score(X_test, y_test)"
   ]
  },
  {
   "cell_type": "code",
   "execution_count": 159,
   "id": "cb5ed36f",
   "metadata": {},
   "outputs": [],
   "source": [
    "params = {'C': np.logspace(-5, 5, 15),\n",
    "          'penalty': ['l1', 'l2'],\n",
    "          'fit_intercept': [True, False]}"
   ]
  },
  {
   "cell_type": "code",
   "execution_count": 160,
   "id": "552e122e",
   "metadata": {},
   "outputs": [],
   "source": [
    "gs = GridSearchCV(estimator=model,\n",
    "                  param_grid=params,\n",
    "                  cv=5,\n",
    "                  scoring='accuracy',\n",
    "                  n_jobs=-2,\n",
    "                  verbose=1)"
   ]
  },
  {
   "cell_type": "code",
   "execution_count": 161,
   "id": "c4e42441",
   "metadata": {},
   "outputs": [
    {
     "name": "stdout",
     "output_type": "stream",
     "text": [
      "Fitting 5 folds for each of 60 candidates, totalling 300 fits\n"
     ]
    },
    {
     "data": {
      "text/plain": [
       "GridSearchCV(cv=5, estimator=LogisticRegression(solver='liblinear'), n_jobs=-2,\n",
       "             param_grid={'C': array([1.00000000e-05, 5.17947468e-05, 2.68269580e-04, 1.38949549e-03,\n",
       "       7.19685673e-03, 3.72759372e-02, 1.93069773e-01, 1.00000000e+00,\n",
       "       5.17947468e+00, 2.68269580e+01, 1.38949549e+02, 7.19685673e+02,\n",
       "       3.72759372e+03, 1.93069773e+04, 1.00000000e+05]),\n",
       "                         'fit_intercept': [True, False],\n",
       "                         'penalty': ['l1', 'l2']},\n",
       "             scoring='accuracy', verbose=1)"
      ]
     },
     "execution_count": 161,
     "metadata": {},
     "output_type": "execute_result"
    }
   ],
   "source": [
    "gs.fit(X_train, y_train)"
   ]
  },
  {
   "cell_type": "code",
   "execution_count": 162,
   "id": "a23b3951",
   "metadata": {},
   "outputs": [
    {
     "data": {
      "text/plain": [
       "LogisticRegression(C=5.1794746792312125, penalty='l1', solver='liblinear')"
      ]
     },
     "execution_count": 162,
     "metadata": {},
     "output_type": "execute_result"
    }
   ],
   "source": [
    "gs_best = gs.best_estimator_\n",
    "gs_best"
   ]
  },
  {
   "cell_type": "code",
   "execution_count": 163,
   "id": "87026433",
   "metadata": {},
   "outputs": [
    {
     "name": "stdout",
     "output_type": "stream",
     "text": [
      "0.9216813706687125\n"
     ]
    }
   ],
   "source": [
    "print(gs.best_score_)"
   ]
  },
  {
   "cell_type": "code",
   "execution_count": 164,
   "id": "a3c354aa",
   "metadata": {},
   "outputs": [
    {
     "data": {
      "text/plain": [
       "0.9236988377968671"
      ]
     },
     "execution_count": 164,
     "metadata": {},
     "output_type": "execute_result"
    }
   ],
   "source": [
    "gs.score(X_train, y_train)"
   ]
  },
  {
   "cell_type": "code",
   "execution_count": 165,
   "id": "9520a21d",
   "metadata": {},
   "outputs": [
    {
     "data": {
      "text/plain": [
       "0.9246171967020024"
      ]
     },
     "execution_count": 165,
     "metadata": {},
     "output_type": "execute_result"
    }
   ],
   "source": [
    "gs.score(X_test, y_test)"
   ]
  },
  {
   "cell_type": "markdown",
   "id": "4082b241",
   "metadata": {},
   "source": [
    "## kNN - 93.8"
   ]
  },
  {
   "cell_type": "code",
   "execution_count": 203,
   "id": "7d95e616",
   "metadata": {},
   "outputs": [],
   "source": [
    "params = {'n_neighbors': [5,6,7,8,9,10],\n",
    "         'weights':['uniform', 'distance']\n",
    "         }"
   ]
  },
  {
   "cell_type": "code",
   "execution_count": 204,
   "id": "b3248d1f",
   "metadata": {},
   "outputs": [],
   "source": [
    "gs = GridSearchCV(estimator=knn,\n",
    "                  param_grid=params,\n",
    "                  cv=5,\n",
    "                  scoring='accuracy',\n",
    "                  n_jobs=-2,\n",
    "                  verbose=1)"
   ]
  },
  {
   "cell_type": "code",
   "execution_count": 205,
   "id": "46c1356f",
   "metadata": {},
   "outputs": [
    {
     "name": "stdout",
     "output_type": "stream",
     "text": [
      "Fitting 5 folds for each of 12 candidates, totalling 60 fits\n"
     ]
    },
    {
     "data": {
      "text/plain": [
       "GridSearchCV(cv=5, estimator=KNeighborsClassifier(), n_jobs=-2,\n",
       "             param_grid={'n_neighbors': [5, 6, 7, 8, 9, 10],\n",
       "                         'weights': ['uniform', 'distance']},\n",
       "             scoring='accuracy', verbose=1)"
      ]
     },
     "execution_count": 205,
     "metadata": {},
     "output_type": "execute_result"
    }
   ],
   "source": [
    "gs.fit(X_train, y_train)"
   ]
  },
  {
   "cell_type": "code",
   "execution_count": 206,
   "id": "7937a647",
   "metadata": {},
   "outputs": [
    {
     "data": {
      "text/plain": [
       "KNeighborsClassifier(n_neighbors=8, weights='distance')"
      ]
     },
     "execution_count": 206,
     "metadata": {},
     "output_type": "execute_result"
    }
   ],
   "source": [
    "gs_best = gs.best_estimator_\n",
    "gs_best"
   ]
  },
  {
   "cell_type": "code",
   "execution_count": 207,
   "id": "80874d15",
   "metadata": {},
   "outputs": [
    {
     "data": {
      "text/plain": [
       "{'n_neighbors': 8, 'weights': 'distance'}"
      ]
     },
     "execution_count": 207,
     "metadata": {},
     "output_type": "execute_result"
    }
   ],
   "source": [
    "gs.best_params_"
   ]
  },
  {
   "cell_type": "code",
   "execution_count": 208,
   "id": "2ef9b0a8",
   "metadata": {},
   "outputs": [
    {
     "name": "stdout",
     "output_type": "stream",
     "text": [
      "0.9393658099987213\n"
     ]
    }
   ],
   "source": [
    "print(gs.best_score_)"
   ]
  },
  {
   "cell_type": "code",
   "execution_count": 209,
   "id": "1bb9b1b3",
   "metadata": {},
   "outputs": [
    {
     "data": {
      "text/plain": [
       "1.0"
      ]
     },
     "execution_count": 209,
     "metadata": {},
     "output_type": "execute_result"
    }
   ],
   "source": [
    "gs.score(X_train, y_train)"
   ]
  },
  {
   "cell_type": "code",
   "execution_count": 210,
   "id": "ea218664",
   "metadata": {},
   "outputs": [
    {
     "data": {
      "text/plain": [
       "0.9422850412249706"
      ]
     },
     "execution_count": 210,
     "metadata": {},
     "output_type": "execute_result"
    }
   ],
   "source": [
    "gs.score(X_test, y_test)"
   ]
  },
  {
   "cell_type": "markdown",
   "id": "c20b3bb5",
   "metadata": {},
   "source": [
    "## Undersampling"
   ]
  },
  {
   "cell_type": "code",
   "execution_count": 173,
   "id": "1bf328e8",
   "metadata": {},
   "outputs": [],
   "source": [
    "from imblearn.under_sampling import RandomUnderSampler\n",
    "from imblearn.pipeline import make_pipeline as imb_make_pipeline"
   ]
  },
  {
   "cell_type": "code",
   "execution_count": 174,
   "id": "a726d8ee",
   "metadata": {},
   "outputs": [
    {
     "name": "stdout",
     "output_type": "stream",
     "text": [
      "0    177\n",
      "1    177\n",
      "Name: flooded, dtype: int64\n"
     ]
    }
   ],
   "source": [
    "sampler = RandomUnderSampler(random_state=1)\n",
    "X_resampled, y_resampled = sampler.fit_resample(X_train, y_train)\n",
    "\n",
    "print(pd.Series(y_resampled).value_counts())"
   ]
  },
  {
   "cell_type": "code",
   "execution_count": 176,
   "id": "7dc0bc9f",
   "metadata": {},
   "outputs": [],
   "source": [
    "def fitter(model, X_train, y_train, X_test, y_test, cv_score=True):\n",
    "    \"\"\"\n",
    "    Takes a model, training and test sets as inputs and evaluated the model on both \n",
    "    reporting scores, confusion matrix and classification report.\n",
    "    \"\"\"\n",
    "\n",
    "    print(model.score(X_train, y_train))\n",
    "    if cv_score:\n",
    "        print(cross_val_score(model, X_train, y_train, cv=5).mean())\n",
    "    print(model.score(X_test, y_test))\n",
    "    print()\n",
    "    print(confusion_matrix(y_train, model.predict(X_train)))\n",
    "    print()\n",
    "    print(classification_report(y_train, model.predict(X_train)))\n",
    "    print()\n",
    "    print(confusion_matrix(y_test, model.predict(X_test)))\n",
    "    print()\n",
    "    print(classification_report(y_test, model.predict(X_test)))"
   ]
  },
  {
   "cell_type": "code",
   "execution_count": 179,
   "id": "10cda1da",
   "metadata": {},
   "outputs": [
    {
     "name": "stdout",
     "output_type": "stream",
     "text": [
      "0.7781707933299646\n",
      "0.7902940800409155\n",
      "0.7585394581861012\n",
      "\n",
      "[[1375  427]\n",
      " [  12  165]]\n",
      "\n",
      "              precision    recall  f1-score   support\n",
      "\n",
      "           0       0.99      0.76      0.86      1802\n",
      "           1       0.28      0.93      0.43       177\n",
      "\n",
      "    accuracy                           0.78      1979\n",
      "   macro avg       0.64      0.85      0.65      1979\n",
      "weighted avg       0.93      0.78      0.82      1979\n",
      "\n",
      "\n",
      "[[572 201]\n",
      " [  4  72]]\n",
      "\n",
      "              precision    recall  f1-score   support\n",
      "\n",
      "           0       0.99      0.74      0.85       773\n",
      "           1       0.26      0.95      0.41        76\n",
      "\n",
      "    accuracy                           0.76       849\n",
      "   macro avg       0.63      0.84      0.63       849\n",
      "weighted avg       0.93      0.76      0.81       849\n",
      "\n"
     ]
    }
   ],
   "source": [
    "pipe = imb_make_pipeline(RandomUnderSampler(random_state=1),\n",
    "                         LogisticRegression(max_iter=10000))\n",
    "\n",
    "pipe.fit(X_train, y_train)\n",
    "predictions = pipe.predict(X_test)\n",
    "\n",
    "\n",
    "fitter(pipe, X_train, y_train, X_test, y_test)"
   ]
  },
  {
   "cell_type": "code",
   "execution_count": 212,
   "id": "5b9c936b",
   "metadata": {},
   "outputs": [
    {
     "name": "stdout",
     "output_type": "stream",
     "text": [
      "0    177\n",
      "1    177\n",
      "Name: flooded, dtype: int64\n"
     ]
    }
   ],
   "source": [
    "sampler = RandomUnderSampler(random_state=1)\n",
    "X_resampled, y_resampled = sampler.fit_resample(X_train, y_train)\n",
    "\n",
    "print(pd.Series(y_resampled).value_counts())"
   ]
  },
  {
   "cell_type": "code",
   "execution_count": 213,
   "id": "fefac9df",
   "metadata": {},
   "outputs": [
    {
     "name": "stdout",
     "output_type": "stream",
     "text": [
      "0.8160687215765539\n",
      "0.8069620253164557\n",
      "0.800942285041225\n",
      "\n",
      "[[1456  346]\n",
      " [  18  159]]\n",
      "\n",
      "              precision    recall  f1-score   support\n",
      "\n",
      "           0       0.99      0.81      0.89      1802\n",
      "           1       0.31      0.90      0.47       177\n",
      "\n",
      "    accuracy                           0.82      1979\n",
      "   macro avg       0.65      0.85      0.68      1979\n",
      "weighted avg       0.93      0.82      0.85      1979\n",
      "\n",
      "\n",
      "[[612 161]\n",
      " [  8  68]]\n",
      "\n",
      "              precision    recall  f1-score   support\n",
      "\n",
      "           0       0.99      0.79      0.88       773\n",
      "           1       0.30      0.89      0.45        76\n",
      "\n",
      "    accuracy                           0.80       849\n",
      "   macro avg       0.64      0.84      0.66       849\n",
      "weighted avg       0.93      0.80      0.84       849\n",
      "\n"
     ]
    }
   ],
   "source": [
    "#with knn classifier\n",
    "pipe = imb_make_pipeline(RandomUnderSampler(random_state=1),\n",
    "                         KNeighborsClassifier(n_neighbors = 8))\n",
    "\n",
    "pipe.fit(X_train, y_train)\n",
    "predictions = pipe.predict(X_test)\n",
    "\n",
    "\n",
    "fitter(pipe, X_train, y_train, X_test, y_test)"
   ]
  },
  {
   "cell_type": "markdown",
   "id": "6fdb8c86",
   "metadata": {},
   "source": [
    "## Oversampling"
   ]
  },
  {
   "cell_type": "code",
   "execution_count": 185,
   "id": "02ca9579",
   "metadata": {},
   "outputs": [],
   "source": [
    "from imblearn.over_sampling import RandomOverSampler"
   ]
  },
  {
   "cell_type": "code",
   "execution_count": 186,
   "id": "e5abacc8",
   "metadata": {},
   "outputs": [
    {
     "name": "stdout",
     "output_type": "stream",
     "text": [
      "0    1802\n",
      "1    1802\n",
      "Name: flooded, dtype: int64\n"
     ]
    }
   ],
   "source": [
    "sampler = RandomOverSampler(random_state=1)\n",
    "X_resampled, y_resampled = sampler.fit_resample(X_train, y_train)\n",
    "\n",
    "print(pd.Series(y_resampled).value_counts())"
   ]
  },
  {
   "cell_type": "code",
   "execution_count": 187,
   "id": "04d03878",
   "metadata": {},
   "outputs": [
    {
     "name": "stdout",
     "output_type": "stream",
     "text": [
      "0.8054573016675088\n",
      "0.8039355581127733\n",
      "0.7915194346289752\n",
      "\n",
      "[[1433  369]\n",
      " [  16  161]]\n",
      "\n",
      "              precision    recall  f1-score   support\n",
      "\n",
      "           0       0.99      0.80      0.88      1802\n",
      "           1       0.30      0.91      0.46       177\n",
      "\n",
      "    accuracy                           0.81      1979\n",
      "   macro avg       0.65      0.85      0.67      1979\n",
      "weighted avg       0.93      0.81      0.84      1979\n",
      "\n",
      "\n",
      "[[601 172]\n",
      " [  5  71]]\n",
      "\n",
      "              precision    recall  f1-score   support\n",
      "\n",
      "           0       0.99      0.78      0.87       773\n",
      "           1       0.29      0.93      0.45        76\n",
      "\n",
      "    accuracy                           0.79       849\n",
      "   macro avg       0.64      0.86      0.66       849\n",
      "weighted avg       0.93      0.79      0.83       849\n",
      "\n",
      "0.80696713975195\n",
      "0.8054573016675088\n",
      "0.7950530035335689\n",
      "\n",
      "[[1434  368]\n",
      " [  17  160]]\n",
      "\n",
      "              precision    recall  f1-score   support\n",
      "\n",
      "           0       0.99      0.80      0.88      1802\n",
      "           1       0.30      0.90      0.45       177\n",
      "\n",
      "    accuracy                           0.81      1979\n",
      "   macro avg       0.65      0.85      0.67      1979\n",
      "weighted avg       0.93      0.81      0.84      1979\n",
      "\n",
      "\n",
      "[[605 168]\n",
      " [  6  70]]\n",
      "\n",
      "              precision    recall  f1-score   support\n",
      "\n",
      "           0       0.99      0.78      0.87       773\n",
      "           1       0.29      0.92      0.45        76\n",
      "\n",
      "    accuracy                           0.80       849\n",
      "   macro avg       0.64      0.85      0.66       849\n",
      "weighted avg       0.93      0.80      0.84       849\n",
      "\n"
     ]
    }
   ],
   "source": [
    "pipe = imb_make_pipeline(RandomOverSampler(random_state=1),\n",
    "                         LogisticRegression(max_iter=10000))\n",
    "\n",
    "pipe.fit(X_train, y_train)\n",
    "predictions = pipe.predict(X_test)\n",
    "\n",
    "\n",
    "fitter(pipe, X_train, y_train, X_test, y_test)\n",
    "model_params = {'logisticregression__penalty': ['l2'],\n",
    "                'logisticregression__C': np.logspace(-2, 2, 5)\n",
    "                }\n",
    "gs = GridSearchCV(pipe, model_params, cv=5, n_jobs=-2)\n",
    "gs.fit(X_train, y_train)\n",
    "print(gs.best_score_)\n",
    "fitter(gs, X_train, y_train, X_test, y_test, cv_score=False)"
   ]
  },
  {
   "cell_type": "code",
   "execution_count": 188,
   "id": "4bf626be",
   "metadata": {},
   "outputs": [
    {
     "data": {
      "text/plain": [
       "<AxesSubplot:ylabel='0'>"
      ]
     },
     "execution_count": 188,
     "metadata": {},
     "output_type": "execute_result"
    },
    {
     "data": {
      "image/png": "[encoded data removed]",
      "text/plain": [
       "<Figure size 720x720 with 1 Axes>"
      ]
     },
     "metadata": {
      "image/png": {
       "height": 583,
       "width": 724
      },
      "needs_background": "light"
     },
     "output_type": "display_data"
    }
   ],
   "source": [
    "pd.DataFrame(list(zip(X_train.columns, list(gs.best_estimator_.steps[1][1].coef_[0])))\n",
    "             ).set_index(0).sort_values(1\n",
    "                                        ).plot(kind='barh', figsize=(10, 10))"
   ]
  },
  {
   "cell_type": "code",
   "execution_count": 215,
   "id": "2210314e",
   "metadata": {
    "scrolled": false
   },
   "outputs": [
    {
     "name": "stdout",
     "output_type": "stream",
     "text": [
      "0.9191510864072764\n",
      "0.8772049610024293\n",
      "0.8775029446407538\n",
      "\n",
      "[[1642  160]\n",
      " [   0  177]]\n",
      "\n",
      "              precision    recall  f1-score   support\n",
      "\n",
      "           0       1.00      0.91      0.95      1802\n",
      "           1       0.53      1.00      0.69       177\n",
      "\n",
      "    accuracy                           0.92      1979\n",
      "   macro avg       0.76      0.96      0.82      1979\n",
      "weighted avg       0.96      0.92      0.93      1979\n",
      "\n",
      "\n",
      "[[684  89]\n",
      " [ 15  61]]\n",
      "\n",
      "              precision    recall  f1-score   support\n",
      "\n",
      "           0       0.98      0.88      0.93       773\n",
      "           1       0.41      0.80      0.54        76\n",
      "\n",
      "    accuracy                           0.88       849\n",
      "   macro avg       0.69      0.84      0.73       849\n",
      "weighted avg       0.93      0.88      0.89       849\n",
      "\n"
     ]
    }
   ],
   "source": [
    "pipe = imb_make_pipeline(RandomOverSampler(random_state=1),\n",
    "                         KNeighborsClassifier(n_neighbors = 8))\n",
    "\n",
    "pipe.fit(X_train, y_train)\n",
    "predictions = pipe.predict(X_test)\n",
    "\n",
    "\n",
    "fitter(pipe, X_train, y_train, X_test, y_test)\n"
   ]
  },
  {
   "cell_type": "markdown",
   "id": "76170cb1",
   "metadata": {},
   "source": [
    "## Random forest"
   ]
  },
  {
   "cell_type": "code",
   "execution_count": 223,
   "id": "8be7ff93",
   "metadata": {},
   "outputs": [],
   "source": [
    "from sklearn.ensemble import BaggingClassifier, RandomForestClassifier\n",
    "from sklearn.metrics import mean_squared_error, r2_score"
   ]
  },
  {
   "cell_type": "code",
   "execution_count": 221,
   "id": "cc876ba3",
   "metadata": {},
   "outputs": [],
   "source": [
    "from sklearn.model_selection import KFold\n",
    "\n",
    "kf = KFold(n_splits=5, shuffle=True, random_state=1)\n",
    "model = DecisionTreeRegressor(max_depth=3, random_state=1)"
   ]
  },
  {
   "cell_type": "code",
   "execution_count": 217,
   "id": "d8081715",
   "metadata": {},
   "outputs": [],
   "source": [
    "def do_cross_val(model, X, y, cv=5):\n",
    "    scores = cross_val_score(model, X, y, cv=cv, n_jobs=-2,\n",
    "                             scoring='neg_mean_squared_error')\n",
    "    # , scores.std()#, cross_val_score(model, X, y, cv=cv, n_jobs=1).mean()\n",
    "    return -scores.mean()"
   ]
  },
  {
   "cell_type": "code",
   "execution_count": 218,
   "id": "5aebb6d7",
   "metadata": {},
   "outputs": [],
   "source": [
    "values = sorted(\n",
    "    list(set(np.logspace(0, 3, num=20, endpoint=True, base=10.0).astype(int))))"
   ]
  },
  {
   "cell_type": "code",
   "execution_count": 228,
   "id": "5d20c02e",
   "metadata": {},
   "outputs": [],
   "source": [
    "score_list = []\n",
    "for n in values:\n",
    "    models = [('Bagging', BaggingClassifier(random_state=1, n_estimators=n, max_features=1.0)),\n",
    "              ('RandomForest', RandomForestClassifier(\n",
    "                  random_state=1, n_estimators=n, max_features=1.0))\n",
    "              ]\n",
    "    for model in models:\n",
    "        model[1].fit(X_train, y_train)\n",
    "        train_score_cv = do_cross_val(model[1], X_train, y_train, cv=kf)\n",
    "        train_predictions = model[1].predict(X_train)\n",
    "        test_predictions = model[1].predict(X_test)\n",
    "        train_score = model[1].score(X_test, y_test)\n",
    "        test_score = model[1].score(X_train, y_train)\n",
    "        score_list.append(\n",
    "            [model[0], n, train_score_cv, train_score, test_score])"
   ]
  },
  {
   "cell_type": "code",
   "execution_count": 229,
   "id": "83982d6f",
   "metadata": {},
   "outputs": [
    {
     "data": {
      "text/plain": [
       "[['Bagging', 1, 0.07882623705408516, 0.9246171967020024, 0.9742294087923193],\n",
       " ['RandomForest',\n",
       "  1,\n",
       "  0.07832118654903467,\n",
       "  0.9199057714958775,\n",
       "  0.9737241030823648],\n",
       " ['Bagging', 2, 0.07427311085538933, 0.9328621908127208, 0.9752400202122284],\n",
       " ['RandomForest',\n",
       "  2,\n",
       "  0.07073392149341517,\n",
       "  0.9293286219081273,\n",
       "  0.9757453259221829],\n",
       " ['Bagging', 4, 0.07326812428078251, 0.9352179034157833, 0.9853461344113188],\n",
       " ['RandomForest',\n",
       "  4,\n",
       "  0.07175297276563099,\n",
       "  0.9352179034157833,\n",
       "  0.9858514401212733],\n",
       " ['Bagging', 6, 0.0667011891062524, 0.934040047114252, 0.989388580090955],\n",
       " ['RandomForest',\n",
       "  6,\n",
       "  0.06821506201253039,\n",
       "  0.9363957597173145,\n",
       "  0.9898938858009095],\n",
       " ['Bagging', 8, 0.06669735327963175, 0.9352179034157833, 0.988377968671046],\n",
       " ['RandomForest',\n",
       "  8,\n",
       "  0.0661935813834548,\n",
       "  0.934040047114252,\n",
       "  0.9878726629610914],\n",
       " ['Bagging', 12, 0.06164684822912671, 0.9352179034157833, 0.9924204143506822],\n",
       " ['RandomForest',\n",
       "  12,\n",
       "  0.061140519115202664,\n",
       "  0.9375736160188457,\n",
       "  0.9919151086407276],\n",
       " ['Bagging', 18, 0.061141797724076206, 0.9363957597173145, 0.9954522486104093],\n",
       " ['RandomForest',\n",
       "  18,\n",
       "  0.06114051911520265,\n",
       "  0.9411071849234394,\n",
       "  0.9949469429004548],\n",
       " ['Bagging', 26, 0.05912287431274773, 0.9387514723203769, 0.9979787771601819],\n",
       " ['RandomForest',\n",
       "  26,\n",
       "  0.05861398798107659,\n",
       "  0.9422850412249706,\n",
       "  0.9984840828701365],\n",
       " ['Bagging', 37, 0.05861782380769722, 0.9363957597173145, 1.0],\n",
       " ['RandomForest', 37, 0.05558624216852065, 0.9328621908127208, 1.0],\n",
       " ['Bagging', 54, 0.05609129267357116, 0.9352179034157833, 1.0],\n",
       " ['RandomForest', 54, 0.05255593913821762, 0.9363957597173145, 1.0],\n",
       " ['Bagging', 78, 0.05912415292162128, 0.9387514723203769, 1.0],\n",
       " ['RandomForest', 78, 0.05508119166347014, 0.9387514723203769, 1.0],\n",
       " ['Bagging', 112, 0.05861782380769722, 0.9387514723203769, 1.0],\n",
       " ['RandomForest', 112, 0.0560925712824447, 0.9399293286219081, 1.0],\n",
       " ['Bagging', 162, 0.05710395090141925, 0.9375736160188457, 1.0],\n",
       " ['RandomForest', 162, 0.05710139368367216, 0.9375736160188457, 1.0],\n",
       " ['Bagging', 233, 0.0560925712824447, 0.9387514723203769, 1.0],\n",
       " ['RandomForest', 233, 0.05659890039636876, 0.9411071849234394, 1.0],\n",
       " ['Bagging', 335, 0.05609129267357116, 0.9387514723203769, 1.0],\n",
       " ['RandomForest', 335, 0.05508119166347014, 0.9411071849234394, 1.0],\n",
       " ['Bagging', 483, 0.05406853343562205, 0.9411071849234394, 1.0],\n",
       " ['RandomForest', 483, 0.053563482930571546, 0.9422850412249706, 1.0],\n",
       " ['Bagging', 695, 0.05558624216852065, 0.9399293286219081, 1.0],\n",
       " ['RandomForest', 695, 0.05508119166347014, 0.9399293286219081, 1.0],\n",
       " ['Bagging', 1000, 0.056090014064697616, 0.9387514723203769, 1.0],\n",
       " ['RandomForest', 1000, 0.0550799130545966, 0.9399293286219081, 1.0]]"
      ]
     },
     "execution_count": 229,
     "metadata": {},
     "output_type": "execute_result"
    }
   ],
   "source": [
    "score_list"
   ]
  },
  {
   "cell_type": "markdown",
   "id": "932d4b6d",
   "metadata": {},
   "source": [
    "Random forest highest test score of 94.2 at 483 estimators. Bagging best test score of 94.1 at 483 estimators as well."
   ]
  },
  {
   "cell_type": "code",
   "execution_count": 230,
   "id": "0242e77b",
   "metadata": {},
   "outputs": [
    {
     "name": "stdout",
     "output_type": "stream",
     "text": [
      "0.8575037897928247\n",
      "0.83628564122235\n",
      "0.8409893992932862\n",
      "\n",
      "[[1520  282]\n",
      " [   0  177]]\n",
      "\n",
      "              precision    recall  f1-score   support\n",
      "\n",
      "           0       1.00      0.84      0.92      1802\n",
      "           1       0.39      1.00      0.56       177\n",
      "\n",
      "    accuracy                           0.86      1979\n",
      "   macro avg       0.69      0.92      0.74      1979\n",
      "weighted avg       0.95      0.86      0.88      1979\n",
      "\n",
      "\n",
      "[[645 128]\n",
      " [  7  69]]\n",
      "\n",
      "              precision    recall  f1-score   support\n",
      "\n",
      "           0       0.99      0.83      0.91       773\n",
      "           1       0.35      0.91      0.51        76\n",
      "\n",
      "    accuracy                           0.84       849\n",
      "   macro avg       0.67      0.87      0.71       849\n",
      "weighted avg       0.93      0.84      0.87       849\n",
      "\n"
     ]
    }
   ],
   "source": [
    "pipe = imb_make_pipeline(RandomUnderSampler(random_state=1),\n",
    "                         RandomForestClassifier(\n",
    "                  random_state=1, n_estimators=483, max_features=1.0))\n",
    "\n",
    "pipe.fit(X_train, y_train)\n",
    "predictions = pipe.predict(X_test)\n",
    "\n",
    "\n",
    "fitter(pipe, X_train, y_train, X_test, y_test)"
   ]
  },
  {
   "cell_type": "code",
   "execution_count": 231,
   "id": "d6f1b731",
   "metadata": {},
   "outputs": [
    {
     "name": "stdout",
     "output_type": "stream",
     "text": [
      "0.8605356240525518\n",
      "0.8362843626134765\n",
      "0.8421672555948174\n",
      "\n",
      "[[1526  276]\n",
      " [   0  177]]\n",
      "\n",
      "              precision    recall  f1-score   support\n",
      "\n",
      "           0       1.00      0.85      0.92      1802\n",
      "           1       0.39      1.00      0.56       177\n",
      "\n",
      "    accuracy                           0.86      1979\n",
      "   macro avg       0.70      0.92      0.74      1979\n",
      "weighted avg       0.95      0.86      0.89      1979\n",
      "\n",
      "\n",
      "[[647 126]\n",
      " [  8  68]]\n",
      "\n",
      "              precision    recall  f1-score   support\n",
      "\n",
      "           0       0.99      0.84      0.91       773\n",
      "           1       0.35      0.89      0.50        76\n",
      "\n",
      "    accuracy                           0.84       849\n",
      "   macro avg       0.67      0.87      0.70       849\n",
      "weighted avg       0.93      0.84      0.87       849\n",
      "\n"
     ]
    }
   ],
   "source": [
    "pipe = imb_make_pipeline(RandomUnderSampler(random_state=1),\n",
    "                         BaggingClassifier(random_state=1, n_estimators=483, max_features=1.0))\n",
    "\n",
    "pipe.fit(X_train, y_train)\n",
    "predictions = pipe.predict(X_test)\n",
    "\n",
    "\n",
    "fitter(pipe, X_train, y_train, X_test, y_test)"
   ]
  },
  {
   "cell_type": "markdown",
   "id": "5adcc26f",
   "metadata": {},
   "source": [
    "## Boosting with Adaboost"
   ]
  },
  {
   "cell_type": "code",
   "execution_count": 234,
   "id": "0908ded9",
   "metadata": {},
   "outputs": [],
   "source": [
    "from sklearn.ensemble import AdaBoostClassifier,GradientBoostingClassifier"
   ]
  },
  {
   "cell_type": "code",
   "execution_count": 235,
   "id": "73bd8650",
   "metadata": {},
   "outputs": [
    {
     "name": "stdout",
     "output_type": "stream",
     "text": [
      "0.9191510864072764\n",
      "0.922681242807825\n",
      "0.9081272084805654\n"
     ]
    }
   ],
   "source": [
    "model = GradientBoostingClassifier(\n",
    "    n_estimators=100,\n",
    "    criterion='mse',\n",
    "    loss='deviance',\n",
    "    max_depth=3,\n",
    "    learning_rate=1.0,\n",
    "    random_state=1)\n",
    "\n",
    "model.fit(X_train, y_train)\n",
    "\n",
    "print(model.score(X_train, y_train))\n",
    "print(cross_val_score(model, X_train, y_train, cv=5, n_jobs=-2).mean())\n",
    "print(model.score(X_test, y_test))"
   ]
  },
  {
   "cell_type": "code",
   "execution_count": 238,
   "id": "0e59b0b2",
   "metadata": {},
   "outputs": [
    {
     "name": "stdout",
     "output_type": "stream",
     "text": [
      "0.9600808489135927\n",
      "0.9348267484976345\n",
      "0.9352179034157833\n"
     ]
    }
   ],
   "source": [
    "model = AdaBoostClassifier(\n",
    "    n_estimators=100,\n",
    "    random_state=1)\n",
    "\n",
    "model.fit(X_train, y_train)\n",
    "\n",
    "print(model.score(X_train, y_train))\n",
    "print(cross_val_score(model, X_train, y_train, cv=5, n_jobs=-2).mean())\n",
    "print(model.score(X_test, y_test))"
   ]
  },
  {
   "cell_type": "code",
   "execution_count": 239,
   "id": "bca2b19a",
   "metadata": {},
   "outputs": [],
   "source": [
    "params = {'n_estimators':[25,100,150,200]}"
   ]
  },
  {
   "cell_type": "code",
   "execution_count": null,
   "id": "7de44df4",
   "metadata": {},
   "outputs": [],
   "source": []
  },
  {
   "cell_type": "code",
   "execution_count": 243,
   "id": "3aebdeec",
   "metadata": {},
   "outputs": [],
   "source": [
    "gs = GridSearchCV(model, params)"
   ]
  },
  {
   "cell_type": "code",
   "execution_count": 244,
   "id": "f08002fb",
   "metadata": {},
   "outputs": [
    {
     "data": {
      "text/plain": [
       "0.9509853461344113"
      ]
     },
     "execution_count": 244,
     "metadata": {},
     "output_type": "execute_result"
    }
   ],
   "source": [
    "gs.fit(X_train, y_train)\n",
    "gs.score(X_train, y_train)"
   ]
  },
  {
   "cell_type": "code",
   "execution_count": 246,
   "id": "ba116f0b",
   "metadata": {},
   "outputs": [
    {
     "name": "stdout",
     "output_type": "stream",
     "text": [
      "0.9398746963303924\n",
      "0.9509853461344113\n",
      "0.9316843345111896\n",
      "\n",
      "[[1780   22]\n",
      " [  75  102]]\n",
      "\n",
      "              precision    recall  f1-score   support\n",
      "\n",
      "           0       0.96      0.99      0.97      1802\n",
      "           1       0.82      0.58      0.68       177\n",
      "\n",
      "    accuracy                           0.95      1979\n",
      "   macro avg       0.89      0.78      0.83      1979\n",
      "weighted avg       0.95      0.95      0.95      1979\n",
      "\n",
      "\n",
      "[[756  17]\n",
      " [ 41  35]]\n",
      "\n",
      "              precision    recall  f1-score   support\n",
      "\n",
      "           0       0.95      0.98      0.96       773\n",
      "           1       0.67      0.46      0.55        76\n",
      "\n",
      "    accuracy                           0.93       849\n",
      "   macro avg       0.81      0.72      0.75       849\n",
      "weighted avg       0.92      0.93      0.93       849\n",
      "\n"
     ]
    }
   ],
   "source": [
    "gs = GridSearchCV(model, params, cv=5, n_jobs=-2)\n",
    "gs.fit(X_train, y_train)\n",
    "print(gs.best_score_)\n",
    "fitter(gs, X_train, y_train, X_test, y_test, cv_score=False)"
   ]
  },
  {
   "cell_type": "code",
   "execution_count": 248,
   "id": "f44c2dda",
   "metadata": {},
   "outputs": [
    {
     "name": "stdout",
     "output_type": "stream",
     "text": [
      "0.8140474987367358\n",
      "0.8105127221582918\n",
      "0.7773851590106007\n",
      "\n",
      "[[1440  362]\n",
      " [   6  171]]\n",
      "\n",
      "              precision    recall  f1-score   support\n",
      "\n",
      "           0       1.00      0.80      0.89      1802\n",
      "           1       0.32      0.97      0.48       177\n",
      "\n",
      "    accuracy                           0.81      1979\n",
      "   macro avg       0.66      0.88      0.68      1979\n",
      "weighted avg       0.94      0.81      0.85      1979\n",
      "\n",
      "\n",
      "[[595 178]\n",
      " [ 11  65]]\n",
      "\n",
      "              precision    recall  f1-score   support\n",
      "\n",
      "           0       0.98      0.77      0.86       773\n",
      "           1       0.27      0.86      0.41        76\n",
      "\n",
      "    accuracy                           0.78       849\n",
      "   macro avg       0.62      0.81      0.64       849\n",
      "weighted avg       0.92      0.78      0.82       849\n",
      "\n"
     ]
    }
   ],
   "source": [
    "pipe = imb_make_pipeline(RandomUnderSampler(random_state=1),\n",
    "                         AdaBoostClassifier(\n",
    "    n_estimators=100,\n",
    "    random_state=1))\n",
    "\n",
    "pipe.fit(X_train, y_train)\n",
    "predictions = pipe.predict(X_test)\n",
    "\n",
    "\n",
    "fitter(pipe, X_train, y_train, X_test, y_test)"
   ]
  },
  {
   "cell_type": "code",
   "execution_count": null,
   "id": "803cc650",
   "metadata": {},
   "outputs": [],
   "source": []
  }
 ],
 "metadata": {
  "kernelspec": {
   "display_name": "Python 3",
   "language": "python",
   "name": "python3"
  },
  "language_info": {
   "codemirror_mode": {
    "name": "ipython",
    "version": 3
   },
   "file_extension": ".py",
   "mimetype": "text/x-python",
   "name": "python",
   "nbconvert_exporter": "python",
   "pygments_lexer": "ipython3",
   "version": "3.8.8"
  }
 },
 "nbformat": 4,
 "nbformat_minor": 5
}
